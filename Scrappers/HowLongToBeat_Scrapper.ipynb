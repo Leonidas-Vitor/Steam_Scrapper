{
 "cells": [
  {
   "cell_type": "markdown",
   "metadata": {},
   "source": [
    "# How Long to Beat Scrap"
   ]
  },
  {
   "cell_type": "code",
   "execution_count": 27,
   "metadata": {},
   "outputs": [
    {
     "name": "stdout",
     "output_type": "stream",
     "text": [
      "1.0 Divinity: Original Sin II : 58.98\n",
      "{'game_id': 39525, 'game_name': 'Divinity: Original Sin II', 'game_name_date': 0, 'game_alias': 'Divinity: Original Sin 2', 'game_type': 'game', 'game_image': '39525_Divinity_Original_Sin_2.jpg', 'comp_lvl_combine': 0, 'comp_lvl_sp': 1, 'comp_lvl_co': 1, 'comp_lvl_mp': 1, 'comp_lvl_spd': 1, 'comp_main': 212324, 'comp_plus': 358381, 'comp_100': 548586, 'comp_all': 359879, 'comp_main_count': 169, 'comp_plus_count': 960, 'comp_100_count': 180, 'comp_all_count': 1309, 'invested_co': 342360, 'invested_mp': 0, 'invested_co_count': 146, 'invested_mp_count': 0, 'count_comp': 2852, 'count_speedrun': 1, 'count_backlog': 6924, 'count_review': 899, 'review_score': 89, 'count_playing': 186, 'count_retired': 627, 'profile_dev': 'Larian Studios', 'profile_popular': 654, 'profile_steam': 435150, 'profile_platform': 'Mobile, Nintendo Switch, PC, PlayStation 4, Xbox One', 'release_world': 2017}\n"
     ]
    }
   ],
   "source": [
    "from howlongtobeatpy import HowLongToBeat\n",
    "\n",
    "results = HowLongToBeat(0.0).search(\"Divinity: Original Sin 2\", similarity_case_sensitive=False)\n",
    "\n",
    "if results is not None and len(results) > 0:\n",
    "    best_element = max(results, key=lambda element: element.similarity)\n",
    "    print(f'{best_element.similarity } {best_element.game_name} : {best_element.main_story}')\n",
    "    print(best_element.json_content)\n",
    "else:\n",
    "    print('Not founded') #\n",
    "\n",
    "#for r in results:\n",
    "#    print(f'{r.game_name}: {r.main_story}')\n"
   ]
  },
  {
   "cell_type": "code",
   "execution_count": 1,
   "metadata": {},
   "outputs": [],
   "source": [
    "from howlongtobeatpy import HowLongToBeat\n",
    "\n",
    "def GetHowLongToBeatData(name):\n",
    "    results = HowLongToBeat(0.0).search(name, similarity_case_sensitive=False)\n",
    "    if results is not None and len(results) > 0:\n",
    "        best_element = max(results, key=lambda element: element.similarity)\n",
    "        return best_element\n",
    "    else:\n",
    "        return None"
   ]
  },
  {
   "cell_type": "code",
   "execution_count": 2,
   "metadata": {},
   "outputs": [
    {
     "data": {
      "application/vnd.jupyter.widget-view+json": {
       "model_id": "e9abf6db913045baa3fe2f3a52ad24b2",
       "version_major": 2,
       "version_minor": 0
      },
      "text/plain": [
       "Progresso do 96º pacote de dados:   0%|          | 0/1 [00:00<?, ?it/s]"
      ]
     },
     "metadata": {},
     "output_type": "display_data"
    },
    {
     "data": {
      "application/vnd.jupyter.widget-view+json": {
       "model_id": "6896a260dfec41ce9f044e63c1b83b77",
       "version_major": 2,
       "version_minor": 0
      },
      "text/plain": [
       "Progresso do 97º pacote de dados:   0%|          | 0/1 [00:00<?, ?it/s]"
      ]
     },
     "metadata": {},
     "output_type": "display_data"
    },
    {
     "data": {
      "application/vnd.jupyter.widget-view+json": {
       "model_id": "873d31000d924d57a6666aa15403593a",
       "version_major": 2,
       "version_minor": 0
      },
      "text/plain": [
       "Progresso do 98º pacote de dados:   0%|          | 0/1 [00:00<?, ?it/s]"
      ]
     },
     "metadata": {},
     "output_type": "display_data"
    },
    {
     "data": {
      "application/vnd.jupyter.widget-view+json": {
       "model_id": "92e5e5f80be9443db0e3c5e8759ef232",
       "version_major": 2,
       "version_minor": 0
      },
      "text/plain": [
       "Progresso do 99º pacote de dados:   0%|          | 0/1 [00:00<?, ?it/s]"
      ]
     },
     "metadata": {},
     "output_type": "display_data"
    }
   ],
   "source": [
    "import json\n",
    "from tqdm.notebook import tqdm\n",
    "import os\n",
    "import time\n",
    "\n",
    "for s in range(0,100):\n",
    "    if os.path.exists(f'HowLongToBeatDataAdded/SteamAppData_{s}.json'):\n",
    "        #print(f'Pacote de dados {s} já foi complementado com dados do HowLongToBeat')\n",
    "        continue\n",
    "    else:\n",
    "        if os.path.exists(f'SteamSpyDataAdded/SteamAppData_{s}.json'):\n",
    "            progresso = tqdm(total=1, desc=f\"Progresso do {s}º pacote de dados\", position=0, leave=True)\n",
    "            with open(f'SteamSpyDataAdded/SteamAppData_{s}.json','r') as file:\n",
    "                data = json.load(file)\n",
    "\n",
    "            for index,app in enumerate(data):\n",
    "                if app['scrap_status'] == 'Scrap_Sucess' and app['type'] == 'game':\n",
    "                    extraData = GetHowLongToBeatData(app['name'])\n",
    "                    if extraData != None:\n",
    "                        data[index]['hltb_status'] = 'Found'\n",
    "                        data[index]['hltb_id'] = extraData.game_id\n",
    "                        data[index]['hltb_name'] = extraData.game_name \n",
    "                        data[index]['hltb_alias'] = extraData.game_alias \n",
    "                        data[index]['hltb_similarity'] = extraData.similarity\n",
    "                        \n",
    "                        data[index]['hltb_main_story'] = extraData.main_story \n",
    "                        data[index]['hltb_main_extra'] = extraData.main_extra \n",
    "                        data[index]['hltb_completionist'] = extraData.completionist \n",
    "                        data[index]['hltb_all_styles'] = extraData.all_styles\n",
    "                    else:\n",
    "                        data[index]['hltb_status'] = 'Not Found'\n",
    "                progresso.update(1/len(data))\n",
    "                time.sleep(0.75)\n",
    "            with open(f'HowLongToBeatDataAdded/SteamAppData_{s}.json','w') as file:\n",
    "                json.dump(data,file,indent=4)\n",
    "        else:\n",
    "            print(f'Pacote da dados {s} não encontrado')"
   ]
  },
  {
   "cell_type": "markdown",
   "metadata": {},
   "source": [
    "### Rescrap do HLTB"
   ]
  },
  {
   "cell_type": "code",
   "execution_count": 2,
   "metadata": {},
   "outputs": [
    {
     "data": {
      "application/vnd.jupyter.widget-view+json": {
       "model_id": "13678690656f4cb9935a4952eb74b0b5",
       "version_major": 2,
       "version_minor": 0
      },
      "text/plain": [
       "Progresso::   0%|          | 0/1 [00:00<?, ?it/s]"
      ]
     },
     "metadata": {},
     "output_type": "display_data"
    }
   ],
   "source": [
    "import json\n",
    "from tqdm.notebook import tqdm\n",
    "import time\n",
    "\n",
    "def ValidAppToReScrap(app):\n",
    "    if app['scrap_status'] == 'Scrap_Sucess' and app['type'] == 'game':\n",
    "        if 'hltb_status' in app.keys():\n",
    "            #Se tem a key, significa que já foi consultado no HLTB, não é nosso interesse consultar dnv nesse momento\n",
    "            return False\n",
    "        else:\n",
    "            return True\n",
    "    else:\n",
    "        #Se não é jogo ou não teve dados obtidos da steam não tem pq pegar dados do HLTB\n",
    "        return False\n",
    "    \n",
    "def ReScrapHLTB():\n",
    "    with open('Datasets/SteamDataset_w_Spy.json','r') as file:\n",
    "        data = json.load(file)\n",
    "\n",
    "    progress = tqdm(total=1, desc=f\"Progresso:\", position=0, leave=True)\n",
    "    for i,app in enumerate(data):\n",
    "        if ValidAppToReScrap(app):\n",
    "            extraData = GetHowLongToBeatData(app['name'])\n",
    "            if extraData != None:\n",
    "                data[i]['hltb_status'] = 'Found'\n",
    "                data[i]['hltb_id'] = extraData.game_id\n",
    "                data[i]['hltb_name'] = extraData.game_name \n",
    "                data[i]['hltb_alias'] = extraData.game_alias \n",
    "                data[i]['hltb_similarity'] = extraData.similarity\n",
    "                \n",
    "                data[i]['hltb_main_story'] = extraData.main_story \n",
    "                data[i]['hltb_main_extra'] = extraData.main_extra \n",
    "                data[i]['hltb_completionist'] = extraData.completionist \n",
    "                data[i]['hltb_all_styles'] = extraData.all_styles\n",
    "            else:\n",
    "                data[i]['hltb_status'] = 'Not Found'\n",
    "            time.sleep(1)\n",
    "        progress.update(1/len(data))\n",
    "    with open('Datasets/SteamDataset_w_HLTB.json','w') as file:\n",
    "        json.dump(data,file,indent=4)\n",
    "\n",
    "ReScrapHLTB()"
   ]
  },
  {
   "cell_type": "markdown",
   "metadata": {},
   "source": [
    "Jogos que trocaram de nome não podem ser localizados apropriadamente...\n",
    "Exemplo é o Divinity: Original Sin 2 que após alguns updates mudou para Divinity: Original Sin 2 - Definitive Edition que não é encontrado no How Long to Beat"
   ]
  },
  {
   "cell_type": "markdown",
   "metadata": {},
   "source": [
    "Também há casos de falsos positivos, exemplo em 1981890"
   ]
  }
 ],
 "metadata": {
  "kernelspec": {
   "display_name": "base",
   "language": "python",
   "name": "python3"
  },
  "language_info": {
   "codemirror_mode": {
    "name": "ipython",
    "version": 3
   },
   "file_extension": ".py",
   "mimetype": "text/x-python",
   "name": "python",
   "nbconvert_exporter": "python",
   "pygments_lexer": "ipython3",
   "version": "3.11.4"
  }
 },
 "nbformat": 4,
 "nbformat_minor": 2
}
