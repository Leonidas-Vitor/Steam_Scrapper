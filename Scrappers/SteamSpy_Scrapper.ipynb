{
 "cells": [
  {
   "cell_type": "markdown",
   "metadata": {},
   "source": [
    "# Coleta de dados complementares no SteamSPY"
   ]
  },
  {
   "cell_type": "code",
   "execution_count": 6,
   "metadata": {},
   "outputs": [],
   "source": [
    "import json\n",
    "import os\n",
    "import requests as rs\n",
    "import time\n",
    "\n",
    "\n",
    "url = \"https://steamspy.com/api.php\"\n",
    "\n",
    "\n",
    "def GetSteamSpyData(appid,count = 0):\n",
    "    params = {'request':'appdetails',\"appid\": appid}\n",
    "    extraData = {}\n",
    "    try:\n",
    "        response = rs.get(url=url, params=params, timeout=60)\n",
    "        try:\n",
    "            if response:\n",
    "                extraData = response.json()\n",
    "                extraData['spy_status'] = 'Spy_Scrap_Sucess'\n",
    "            elif response.status_code == 429:\n",
    "                print(f'Esperando api permitir nova consulta, requisição {count}')\n",
    "                time.sleep(300)\n",
    "                extraData = GetSteamSpyData(appid)\n",
    "                extraData['spy_status'] = 'Spy_Scrap_Sucess'\n",
    "            else:\n",
    "                print(response.status_code)\n",
    "        except Exception as e:\n",
    "            print(f'{type(e)} : {e}')\n",
    "            extraData['positive'] = 0\n",
    "            extraData['negative'] = 0\n",
    "            extraData['tags'] = 0\n",
    "            extraData['owners'] = 0\n",
    "            extraData['spy_status'] = f'Spy_Scrap_Failed {type(e)}'\n",
    "    except Exception as e:\n",
    "        print(f'{type(e)} : {e}')\n",
    "        extraData['positive'] = 0\n",
    "        extraData['negative'] = 0\n",
    "        extraData['tags'] = 0\n",
    "        extraData['owners'] = 0\n",
    "        extraData['spy_status'] = f'Spy_Scrap_Failed {type(e)}'\n",
    "    return extraData"
   ]
  },
  {
   "cell_type": "code",
   "execution_count": 2,
   "metadata": {},
   "outputs": [
    {
     "data": {
      "application/vnd.jupyter.widget-view+json": {
       "model_id": "b2d40d3ae00b495da071931e018a9a4e",
       "version_major": 2,
       "version_minor": 0
      },
      "text/plain": [
       "Progresso do 98º pacote de dados:   0%|          | 0/1 [00:00<?, ?it/s]"
      ]
     },
     "metadata": {},
     "output_type": "display_data"
    },
    {
     "data": {
      "application/vnd.jupyter.widget-view+json": {
       "model_id": "4fca0883d9154d05813f13131eb79ea3",
       "version_major": 2,
       "version_minor": 0
      },
      "text/plain": [
       "Progresso do 99º pacote de dados:   0%|          | 0/1 [00:00<?, ?it/s]"
      ]
     },
     "metadata": {},
     "output_type": "display_data"
    }
   ],
   "source": [
    "import json\n",
    "from tqdm.notebook import trange, tqdm\n",
    "import os\n",
    "import requests as rs\n",
    "import time\n",
    "\n",
    "for s in range(0,100):\n",
    "    if os.path.exists(f'SteamSpyDataAdded/SteamAppData_{s}.json'):\n",
    "        #print(f'Pacote de dados {s} já foi complementado com dados do SteamSpy')\n",
    "        continue\n",
    "    else:\n",
    "        if os.path.exists(f'RawData/SteamAppData_{s}.json'):\n",
    "            progresso = tqdm(total=1, desc=f\"Progresso do {s}º pacote de dados\", position=0, leave=True)\n",
    "            with open(f'RawData/SteamAppData_{s}.json','r') as file:\n",
    "                data = json.load(file)\n",
    "\n",
    "            count = 0 # => Serve para entender e quando a API começa a rejeitar por muito request\n",
    "            for index,app in enumerate(data):\n",
    "                if app['scrap_status'] == 'Scrap_Sucess' and app['type'] == 'game':\n",
    "                    count += 1\n",
    "                    extraData = GetSteamSpyData(app['steam_appid'],count)\n",
    "                    data[index]['positive'] = extraData['positive']\n",
    "                    data[index]['negative'] = extraData['negative']\n",
    "                    data[index]['tags'] = extraData['tags']\n",
    "                    data[index]['steamspy_owners'] = extraData['owners']\n",
    "                    data[index]['spy_status'] = extraData['spy_status']\n",
    "                progresso.update(1/len(data))\n",
    "                time.sleep(1)\n",
    "            with open(f'SteamSpyDataAdded/SteamAppData_{s}.json','w') as file:\n",
    "                json.dump(data,file,indent=4)\n",
    "        else:\n",
    "            print(f'Pacote da dados {s} não encontrado')\n"
   ]
  },
  {
   "cell_type": "markdown",
   "metadata": {},
   "source": [
    "### Rescrap"
   ]
  },
  {
   "cell_type": "code",
   "execution_count": 7,
   "metadata": {},
   "outputs": [
    {
     "data": {
      "application/vnd.jupyter.widget-view+json": {
       "model_id": "9c0e3059f5f941e2b6eca20652a63652",
       "version_major": 2,
       "version_minor": 0
      },
      "text/plain": [
       "Progresso::   0%|          | 0/1 [00:00<?, ?it/s]"
      ]
     },
     "metadata": {},
     "output_type": "display_data"
    }
   ],
   "source": [
    "import json\n",
    "from tqdm.notebook import tqdm\n",
    "import time\n",
    "\n",
    "def ValidAppToReScrap(app):\n",
    "    if app['scrap_status'] == 'Scrap_Sucess' and app['type'] == 'game':\n",
    "        try:\n",
    "            #Se tiver a string no spy_status quer dizer que falhou anteriormente e portanto é válido uma nova coleta\n",
    "            return \"Spy_Scrap_Failed\" in app['spy_status']\n",
    "        except:\n",
    "            #Se falhar o Try significa que esse app nunca recebeu os dados do SteamSpy\n",
    "            return True\n",
    "    else:\n",
    "        #Se não é jogo ou não teve dados obtidos da steam não tem pq pegar dados do SPY\n",
    "        return False\n",
    "\n",
    "def ReScrapSteamSpy():\n",
    "    with open('Datasets/SteamDataset.json','r') as file:\n",
    "        data = json.load(file)\n",
    "\n",
    "    progress = tqdm(total=1, desc=f\"Progresso:\", position=0, leave=True)\n",
    "    for i,app in enumerate(data):\n",
    "        if ValidAppToReScrap(app):\n",
    "            extraData = GetSteamSpyData(app['steam_appid'])\n",
    "            data[i]['positive'] = extraData['positive']\n",
    "            data[i]['negative'] = extraData['negative']\n",
    "            data[i]['tags'] = extraData['tags']\n",
    "            data[i]['steamspy_owners'] = extraData['owners']\n",
    "            data[i]['spy_status'] = extraData['spy_status']\n",
    "            time.sleep(1)\n",
    "        progress.update(1/len(data))\n",
    "    with open('Datasets/SteamDataset_w_Spy.json','w') as file:\n",
    "        json.dump(data,file,indent=4)\n",
    "\n",
    "ReScrapSteamSpy()\n"
   ]
  },
  {
   "cell_type": "code",
   "execution_count": 10,
   "metadata": {},
   "outputs": [],
   "source": [
    "\n",
    "def SetSpyScrapSucess(seg):\n",
    "    with open(f'SteamSpyDataAdded/SteamAppData_{seg}.json','r') as file:\n",
    "        data = json.load(file)\n",
    "    for i,app in enumerate(data):\n",
    "        print(data[i])\n",
    "        if app['scrap_status'] == 'Scrap_Sucess' and app['type'] == 'game':\n",
    "            data[i]['spy_status'] = 'Spy_Scrap_Sucess'\n",
    "        #else:\n",
    "        #    data[i].pop('spy_status')\n",
    "\n",
    "    with open(f'SteamSpyDataAdded/SteamAppData_{seg}.json','w') as file:\n",
    "       json.dump(data,file,indent=4)\n",
    "\n",
    "def UpdateSegElement(seg, appid):\n",
    "    with open(f'SteamSpyDataAdded/SteamAppData_{seg}.json','r') as file:\n",
    "        data = json.load(file)\n",
    "\n",
    "    extraData = GetSteamSpyData(appid,0)\n",
    "    index = list(filter(lambda a: a[1].get('steam_appid') == appid, enumerate(data)))[0][0]\n",
    "    print(index)\n",
    "\n",
    "    data[index]['positive'] = extraData['positive']\n",
    "    data[index]['negative'] = extraData['negative']\n",
    "    data[index]['tags'] = extraData['tags']\n",
    "    data[index]['steamspy_owners'] = extraData['owners']\n",
    "    data[index]['spy_status'] = extraData['spy_status']\n",
    "\n",
    "    #print(data[index])\n",
    "\n",
    "    with open(f'SteamSpyDataAdded/SteamAppData_{seg}.json','w') as file:\n",
    "        json.dump(data,file,indent=4)\n",
    "\n",
    "#UpdateSegElement(3,2512930)\n",
    "\n",
    "#SetSpyScrapSucess(0)\n",
    "#SetSpyScrapSucess(1)\n",
    "#SetSpyScrapSucess(2)\n",
    "#SetSpyScrapSucess(3)\n",
    "#SetSpyScrapSucess(4)"
   ]
  },
  {
   "cell_type": "code",
   "execution_count": 11,
   "metadata": {},
   "outputs": [
    {
     "name": "stdout",
     "output_type": "stream",
     "text": [
      "{'appid': 949230, 'name': 'Cities: Skylines II', 'developer': 'Colossal Order Ltd.', 'publisher': 'Paradox Interactive', 'score_rank': '', 'positive': 13631, 'negative': 10610, 'userscore': 0, 'owners': '500,000 .. 1,000,000', 'average_forever': 0, 'average_2weeks': 0, 'median_forever': 0, 'median_2weeks': 0, 'price': '4999', 'initialprice': '4999', 'discount': '0', 'ccu': 49182, 'languages': 'English, French, Italian, German, Japanese, Korean, Polish, Russian, Simplified Chinese, Portuguese - Brazil, Traditional Chinese, Spanish - Spain', 'genre': 'Simulation', 'tags': {'Simulation': 364, 'City Builder': 346, 'Building': 267, 'Singleplayer': 228, 'Sandbox': 209, 'Management': 199, 'Economy': 189, 'Strategy': 186, 'Realistic': 164, 'Multiplayer': 129, 'Moddable': 92, 'Relaxing': 68, 'Casual': 64, 'Resource Management': 57, 'Atmospheric': 55, 'Open World': 23, 'Great Soundtrack': 20, 'Psychological Horror': 10, 'Early Access': 10, 'Transportation': 6}}\n",
      "appid\n",
      "name\n",
      "developer\n",
      "publisher\n",
      "score_rank\n",
      "positive\n",
      "negative\n",
      "userscore\n",
      "owners\n",
      "average_forever\n",
      "average_2weeks\n",
      "median_forever\n",
      "median_2weeks\n",
      "price\n",
      "initialprice\n",
      "discount\n",
      "ccu\n",
      "languages\n",
      "genre\n",
      "tags\n"
     ]
    }
   ],
   "source": [
    "import json\n",
    "from tqdm.notebook import trange, tqdm\n",
    "import os\n",
    "import requests as rs\n",
    "\n",
    "\n",
    "url = \"https://steamspy.com/api.php\"\n",
    "params = {'request':'appdetails',\"appid\": 949230}\n",
    "\n",
    "response = rs.get(url=url, params=params, timeout=10)\n",
    "if response:\n",
    "    extraData = response.json()\n",
    "    print(extraData)\n",
    "    for e in extraData:\n",
    "        print(e)\n",
    "else:\n",
    "    print(response.status_code)"
   ]
  },
  {
   "cell_type": "markdown",
   "metadata": {},
   "source": [
    "Existe um grau de discrepância na quantidade de avaliações da página steam e oq aparece no steamspy, será q essa discrepância está presente também no dado extraído via API?"
   ]
  },
  {
   "cell_type": "markdown",
   "metadata": {},
   "source": [
    "De fato existe essa discrepância, ao que tudo indica a steam só retorna parte das avaliações (podendo ser um filtro de avaliações válidas ou algo do tipo) enquanto o steamSpy retorna todas as avaliações sem filtro\n",
    "\n",
    "Essa teoria foi elaborada comparando o 1886260 e o 435150 com os dados da steam e do steamspy\n",
    "- O 1886260 tem 1 avaliação na página steam, contudo, a API da steam não retorna nenhum valor de recommendation\n",
    "- Já no SteamSPy consta para o 1886260 1 avaliação positiva"
   ]
  },
  {
   "cell_type": "code",
   "execution_count": 15,
   "metadata": {},
   "outputs": [
    {
     "name": "stdout",
     "output_type": "stream",
     "text": [
      "Total de jogos no pacote 0: 990\n"
     ]
    }
   ],
   "source": [
    "import json\n",
    "from tqdm.notebook import trange, tqdm\n",
    "import os\n",
    "import requests as rs\n",
    "      \n",
    "            \n",
    "for s in range(0,100):\n",
    "    if os.path.exists(f'RawData/SteamAppData_{s}.json'):\n",
    "        with open(f'RawData/SteamAppData_{s}.json','r') as file:\n",
    "            data = json.load(file)\n",
    "            tGames = len(list(filter(lambda a: a.get('scrap_status') == 'Scrap_Sucess' and a.get('type') == 'game', data)))\n",
    "            print(f'Total de jogos no pacote {s}: {tGames}')"
   ]
  },
  {
   "cell_type": "markdown",
   "metadata": {},
   "source": [
    "Jogos novos e/ou não lançados e/ou muito pouco populares podem vir sem os dados de Tag\n",
    "\n",
    "- Em 2472840 foi observado ausência de dados de tag, recomendações/avaliações, o motivo até agora é só especulação, pois esses dados existem na página steam"
   ]
  },
  {
   "cell_type": "markdown",
   "metadata": {},
   "source": [
    "Nesses casos de ausência de dados via APIs o que restá é um webscrapping de front page, o que pode ser um número mais reduzido (esperamos que seja) pdoe ser viável"
   ]
  }
 ],
 "metadata": {
  "kernelspec": {
   "display_name": "base",
   "language": "python",
   "name": "python3"
  },
  "language_info": {
   "codemirror_mode": {
    "name": "ipython",
    "version": 3
   },
   "file_extension": ".py",
   "mimetype": "text/x-python",
   "name": "python",
   "nbconvert_exporter": "python",
   "pygments_lexer": "ipython3",
   "version": "3.11.4"
  }
 },
 "nbformat": 4,
 "nbformat_minor": 2
}
