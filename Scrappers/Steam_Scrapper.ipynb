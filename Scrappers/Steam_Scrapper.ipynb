{
 "cells": [
  {
   "cell_type": "markdown",
   "metadata": {},
   "source": [
    "# Dados a serem coletados\n",
    "\n",
    "- Nome -> Steam - Ok\n",
    "- AppID -> http://api.steampowered.com/ISteamApps/GetAppList/v2/\n",
    "- Preço -> Steam - Ok\n",
    "\n",
    "- Quantidade de avaliação -> Steam - OK\n",
    "- Lançamento -> Steam - OK\n",
    "- Idade recomendada -> Steam - 1/2 Ok (parece que alguns jogos não tem essa info)\n",
    "\n",
    "- Duração do jogo -> How Long To beat\n",
    "\n",
    "- Marcadores/Tags -> SteamSpy\n",
    "- Avaliação dos usuário -> SteamSpy\n",
    "\n",
    "- Free - Steam - Ok\n",
    "---\n",
    "- Acesso antecipado - Steam -> É um gênero, podendo ser filtrado por isso\n",
    "- DLC - Steam -Ok\n",
    "- Lançamento futuro - Steam -> 'release_date': {'coming_soon': True, 'date': 'Q1 2024'}\n",
    "- Línguas -> Steam - Ok\n",
    "- Características do jogo -> Steam - Ok\n",
    "- Publicadora -> Steam - Ok\n",
    "- Desenvolvedora -> Steam - OK\n",
    "- Gênero -> Steam - Ok\n",
    "- Conquistas (quantidade) -> Steam - OK\n",
    "\n",
    "- Item na loja (quantidade) -> Steam ?\n",
    "\n",
    "- Avaliação Crítica -> Metacritic, OpenCritic, Steam - 1/2 OK (Só tem metacritic pelo steam) \n",
    "- Requisitos Mínimos (Windows) -> Steam - Ok\n",
    "- Requisitos Máximos (Windows) -> Steam - OK"
   ]
  },
  {
   "cell_type": "markdown",
   "metadata": {},
   "source": [
    "# HTMLs\n",
    "\n",
    "- Características: class=\"game_area_features_list_ctn\">\n"
   ]
  },
  {
   "cell_type": "markdown",
   "metadata": {},
   "source": [
    "### Coleta de dados por jogo"
   ]
  },
  {
   "cell_type": "code",
   "execution_count": 31,
   "metadata": {},
   "outputs": [
    {
     "name": "stdout",
     "output_type": "stream",
     "text": [
      "type\n",
      "name\n",
      "steam_appid\n",
      "required_age\n",
      "is_free\n",
      "controller_support\n",
      "dlc\n",
      "detailed_description\n",
      "about_the_game\n",
      "short_description\n",
      "supported_languages\n",
      "reviews\n",
      "header_image\n",
      "capsule_image\n",
      "capsule_imagev5\n",
      "website\n",
      "pc_requirements\n",
      "mac_requirements\n",
      "linux_requirements\n",
      "legal_notice\n",
      "developers\n",
      "publishers\n",
      "price_overview\n",
      "packages\n",
      "package_groups\n",
      "platforms\n",
      "metacritic\n",
      "categories\n",
      "genres\n",
      "screenshots\n",
      "movies\n",
      "recommendations\n",
      "achievements\n",
      "release_date\n",
      "support_info\n",
      "background\n",
      "background_raw\n",
      "content_descriptors\n"
     ]
    }
   ],
   "source": [
    "import requests as rs\n",
    "import json\n",
    "\n",
    "url = \"http://store.steampowered.com/api/appdetails/\"\n",
    "\n",
    "appIds = []\n",
    "\n",
    "appIdTest = 435150\n",
    "dlcAppId = 715950 #-> Testar se conseguimos diferenciar DLC de jogo\n",
    "\n",
    "currency='us'\n",
    "language='en'\n",
    "\n",
    "params = {\"appids\": appIdTest, \"cc\": currency, \"l\": language}\n",
    "\n",
    "response = rs.get(url=url, params=params, timeout=10)\n",
    "data = response.json()['435150']['data']\n",
    "for a in data:\n",
    "    print(a)\n",
    "#print(response.json()['435150']['data']['price_overview'])\n",
    "\n"
   ]
  },
  {
   "cell_type": "markdown",
   "metadata": {},
   "source": [
    "### Coleta de AppIds"
   ]
  },
  {
   "cell_type": "code",
   "execution_count": 29,
   "metadata": {},
   "outputs": [
    {
     "name": "stdout",
     "output_type": "stream",
     "text": [
      "Arquivo de appIDs foi criado com 179186 IDs\n"
     ]
    }
   ],
   "source": [
    "import requests as rs\n",
    "import json\n",
    "\n",
    "url_AppIds = \"http://api.steampowered.com/ISteamApps/GetAppList/v2/\"\n",
    "\n",
    "response = rs.get(url=url_AppIds,timeout = 10)\n",
    "if response:\n",
    "    data = response.json()\n",
    "    appIds = data['applist']['apps'] #Apps é uma lista de dicionários, com chaves \"appid\" e \"name\"\n",
    "    with open('Steam_AppIds.json','w') as file:\n",
    "        json.dump(appIds,file,indent=4)\n",
    "    print(f'Arquivo de appIDs foi criado com {len(appIds)} IDs')\n",
    "else:\n",
    "    print('A API não retornou resposta')"
   ]
  },
  {
   "cell_type": "code",
   "execution_count": 38,
   "metadata": {},
   "outputs": [
    {
     "name": "stdout",
     "output_type": "stream",
     "text": [
      "1791\n",
      "1877\n",
      "True\n"
     ]
    }
   ],
   "source": [
    "import json\n",
    "\n",
    "appIds = []\n",
    "\n",
    "with open('Steam_AppIds.json','r') as file:\n",
    "    appIds = json.load(file)\n",
    "\n",
    "appIdsRange = int(len(appIds)/100)\n",
    "\n",
    "print(appIdsRange)\n",
    "\n",
    "currency='us'\n",
    "language='en'\n",
    "\n",
    "count = 0\n",
    "for s in range(0,100): # Testar com apenas 1 segmento primeiro\n",
    "    if s == 99:\n",
    "        print(len(appIds[appIdsRange*s:len(appIds)]))\n",
    "        count += len(appIds[appIdsRange*s:len(appIds)])\n",
    "    else:\n",
    "        count += len(appIds[appIdsRange*s:appIdsRange*(s+1)])\n",
    "print (count == len(appIds))"
   ]
  },
  {
   "cell_type": "markdown",
   "metadata": {},
   "source": [
    "### Funções úteis"
   ]
  },
  {
   "cell_type": "code",
   "execution_count": 4,
   "metadata": {},
   "outputs": [],
   "source": [
    "import requests as rs\n",
    "import time\n",
    "\n",
    "columnsToIgnore =['dlc', 'detailed_description', 'about_the_game', 'reviews', 'header_image', 'capsule_image', 'capsule_imagev5', 'website' , 'mac_requirements', \n",
    "                  'linux_requirements', 'legal_notice', 'packages', 'package_groups', 'screenshots', 'movies', 'support_info', 'background', 'background_raw', 'content_descriptors']\n",
    "\n",
    "def RemoveUselessData(data):\n",
    "    for k in columnsToIgnore: \n",
    "        try:\n",
    "            data.pop(k)\n",
    "        except:\n",
    "            continue\n",
    "\n",
    "currency='us'\n",
    "language='en'\n",
    "#steam_appid trocar os appid por steam_appid para manter um padrão... ou organizar isso quando acabar já q já foi tão longe\n",
    "def GetData(appid,name,count=0):\n",
    "    url = \"http://store.steampowered.com/api/appdetails/\"\n",
    "    params = {\"appids\": appid, \"cc\": currency, \"l\": language}\n",
    "    try:\n",
    "        response = rs.get(url=url, params=params, timeout=10)\n",
    "        if response:\n",
    "            try:\n",
    "                data = response.json()[str(appid)]['data'] # => É um dicionário\n",
    "                for k in columnsToIgnore: \n",
    "                    try:\n",
    "                        data.pop(k)\n",
    "                    except:\n",
    "                        continue\n",
    "                data['scrap_status'] = 'Scrap_Sucess'\n",
    "            except KeyError:\n",
    "                data = {'appid':appid,'name':name,'scrap_status':'Scrap_NoData'}\n",
    "        elif response.status_code == 429:\n",
    "            print(f'Esperando api, requisição {count}')\n",
    "            time.sleep(300) # => A API da steam só aceita N solicitações a cada 5 minutos\n",
    "            data = GetData(appid,name)\n",
    "        else:\n",
    "            data = {'appid':appid,'name':name,'scrap_status': f'Scrap_Fail {response}'}\n",
    "    except Exception as e:\n",
    "        data = {'appid':appid,'name':name,'scrap_status':f'Scrap_Fail {type(e)}'}\n",
    "        print(f'{appid} - Erro: {e}')\n",
    "    return data"
   ]
  },
  {
   "cell_type": "markdown",
   "metadata": {},
   "source": [
    "### Scrap em segmentos/partes de toda a Steam"
   ]
  },
  {
   "cell_type": "code",
   "execution_count": 2,
   "metadata": {},
   "outputs": [],
   "source": [
    "#import requests as rs\n",
    "import json\n",
    "from tqdm.notebook import trange, tqdm\n",
    "import os\n",
    "\n",
    "appIds = []\n",
    "\n",
    "with open('Steam_AppIds.json','r') as file:\n",
    "    appIds = json.load(file)\n",
    "\n",
    "appIdsRange = int(len(appIds)/100)\n",
    "\n",
    "for s in range(0,100):\n",
    "    if os.path.exists(f'RawData/SteamAppData_{s}.json'):\n",
    "        #print(f'Pacote de dados {s} já extraído')\n",
    "        continue\n",
    "    else:\n",
    "        if s == 99:\n",
    "            segment = appIds[appIdsRange*s:len(appIds)]\n",
    "        else:\n",
    "            segment = appIds[appIdsRange*s:appIdsRange*(s+1)]\n",
    "        dataList = []\n",
    "        progresso = tqdm(total=1, desc=f\"Progresso do {s}º segmento\", position=0, leave=True)\n",
    "        for n, app in enumerate(segment):\n",
    "            dataList.append(GetData(app['appid'],app['name'],n))\n",
    "            progresso.update(1/len(segment))\n",
    "        with open(f'RawData/SteamAppData_{s}.json','w') as file:\n",
    "            json.dump(dataList,file,indent=4)\n",
    "        print(f'Pacotes de dados coletados: {s}/99')"
   ]
  },
  {
   "cell_type": "markdown",
   "metadata": {},
   "source": [
    "### Tentando pegar os dados denovo das coletas que falharam"
   ]
  },
  {
   "cell_type": "code",
   "execution_count": 5,
   "metadata": {},
   "outputs": [
    {
     "data": {
      "application/vnd.jupyter.widget-view+json": {
       "model_id": "7339562c892b4dae9d84a89727c11a59",
       "version_major": 2,
       "version_minor": 0
      },
      "text/plain": [
       "Progresso::   0%|          | 0/1 [00:00<?, ?it/s]"
      ]
     },
     "metadata": {},
     "output_type": "display_data"
    },
    {
     "name": "stdout",
     "output_type": "stream",
     "text": [
      "1863540 - Erro: Expecting value: line 1 column 1 (char 0)\n",
      "1444140 - Erro: Expecting value: line 1 column 1 (char 0)\n",
      "1061400 - Erro: Expecting value: line 1 column 1 (char 0)\n",
      "2124470 - Erro: Expecting value: line 1 column 1 (char 0)\n",
      "0\n"
     ]
    }
   ],
   "source": [
    "import json\n",
    "from tqdm.notebook import tqdm\n",
    "\n",
    "def ReScrap(tryNoData = False):\n",
    "    with open('Datasets/SteamDataset.json','r') as file:\n",
    "        data = json.load(file)\n",
    "\n",
    "    noDataCount = 0\n",
    "    progress = tqdm(total=1, desc=f\"Progresso:\", position=0, leave=True)\n",
    "\n",
    "    for i,app in enumerate(data):##list(filter(lambda a: 'Scrap_Sucess' not in a.get('scrap_status'), data)):\n",
    "        status = app['scrap_status']\n",
    "        if \"Scrap_Fail\" in status:\n",
    "            data[i] = GetData(app['appid'],app['name'])\n",
    "        elif tryNoData and 'Scrap_NoData' in status:\n",
    "            data[i] = GetData(app['appid'],app['name'])\n",
    "            if data[i]['scrap_status'] == 'Scrap_Sucess':\n",
    "                appId = data[i]['steam_appid']\n",
    "                appName = data[i]['name']\n",
    "                print(f'Dados encontrados! {appId} - {appName}')\n",
    "            else:\n",
    "                noDataCount+=1\n",
    "        progress.update(1/len(data))\n",
    "\n",
    "    print(noDataCount)\n",
    "    with open('Datasets/SteamDataset.json','w') as file:\n",
    "        json.dump(data,file,indent=4)\n",
    "\n",
    "ReScrap()"
   ]
  },
  {
   "cell_type": "markdown",
   "metadata": {},
   "source": [
    "### Unificador de Jsons"
   ]
  },
  {
   "cell_type": "code",
   "execution_count": 10,
   "metadata": {},
   "outputs": [
    {
     "data": {
      "application/vnd.jupyter.widget-view+json": {
       "model_id": "00ff65d2a0874fe9b4613620d47ba746",
       "version_major": 2,
       "version_minor": 0
      },
      "text/plain": [
       "Progresso:   0%|          | 0/1 [00:00<?, ?it/s]"
      ]
     },
     "metadata": {},
     "output_type": "display_data"
    }
   ],
   "source": [
    "import json\n",
    "from tqdm.notebook import tqdm\n",
    "\n",
    "steamscrap = []\n",
    "progresso = tqdm(total=1, desc=\"Progresso: \", position=0, leave=True)\n",
    "\n",
    "for i in range(0,100):\n",
    "    with open(f'HowLongToBeatDataAdded/SteamAppData_{i}.json','r') as file:\n",
    "        if i == 0:\n",
    "            steamscrap = json.load(file)\n",
    "        else:\n",
    "            steamscrap += json.load(file)\n",
    "        progresso.update(0.01)\n",
    "\n",
    "with open('Datasets/SteamDataset.json','w') as file:\n",
    "    json.dump(steamscrap,file,indent=4)"
   ]
  },
  {
   "cell_type": "code",
   "execution_count": 44,
   "metadata": {},
   "outputs": [
    {
     "name": "stdout",
     "output_type": "stream",
     "text": [
      "dict_keys(['success'])\n"
     ]
    }
   ],
   "source": []
  },
  {
   "cell_type": "markdown",
   "metadata": {},
   "source": [
    "### Adicionar novos apps\n",
    "\n",
    "Motivo de existência: Para atualizar o dataset, provavelmente não vai fazer sentido coletar dados de DLCs e etc. dessa forma, primeiro é necessário adicionar os novos APPs para poder filtrar isso e só pegar os dados que realmente interessam, a fim de reduzir substancialmente o tempo para cada coleta de dados\n",
    "\n",
    "1. Atualizar a lista de APPIDs\n",
    "2. Ler o arquivo gerado e subtrair os APPs já conhecidos pelo dataset\n",
    "3. Coletar os dados dos novos APPs e anexar ao dataset"
   ]
  },
  {
   "cell_type": "markdown",
   "metadata": {},
   "source": [
    "Alguns jogos não tem nenhum tipo de retorno da API, exemplo 1594690, nesse caso é um jogo VR, será que tem relação?\n",
    "No caso do 1594890 era necessário realizar login, pois era conteúdo sexual\n",
    "No caso do 2472540 a página da loja nem existe"
   ]
  },
  {
   "cell_type": "markdown",
   "metadata": {},
   "source": [
    "ShowAppTagModal( 1982240 ) => Evento OnClick que exibe todas as tags de um jogo na página steam, pode ser usado para pegar tags faltantes\n",
    "\n",
    "As tags parecem ser armazenadas em rgAppTags\n",
    "\n",
    "### Local onde todas as tags estão na página Steam\n",
    "\n",
    "//*[@id=\"responsive_page_template_content\"]/script[5]\n",
    "\n",
    "/html/body/div[1]/div[7]/div[6]/script[5]\n",
    "\n",
    "<script type=\"text/javascript\">\n",
    "\t\t$J( function() {\n",
    "\t\t\tInitAppTagModal( 1982240,\n",
    "\t\t\t\t[{\"tagid\":122,\"name\":\"RPG\",\"count\":64,\"browseable\":true},{\"tagid\":4231,\"name\":\"RPG de A\\u00e7\\u00e3o\",\"count\":37,\"browseable\":true},{\"tagid\":4474,\"name\":\"CRPG\",\"count\":35,\"browseable\":true},{\"tagid\":4191,\"name\":\"3D\",\"count\":32,\"browseable\":true},{\"tagid\":4295,\"name\":\"Futurista\",\"count\":29,\"browseable\":true},{\"tagid\":3993,\"name\":\"Combate\",\"count\":22,\"browseable\":true},{\"tagid\":4182,\"name\":\"Um Jogador\",\"count\":21,\"browseable\":true}],\n",
    "\t\t\t\t[],\n",
    "\t\t\t\t\"1_5_9__410\",\n",
    "\t\t\t\t\"1_5_9__411\",\n",
    "\t\t\t\tnull,\n",
    "\t\t\t\tfalse\t\t\t);\n",
    "\n",
    "\t\t\t\t\t\tif ( typeof GDynamicStore != 'undefined' )\n",
    "\t\t\t\tGDynamicStore.FixupNamePortion();\n",
    "\t\t\t\n",
    "\t\t\t\t\t});\n",
    "\t</script>"
   ]
  },
  {
   "cell_type": "markdown",
   "metadata": {},
   "source": [
    "É possível coletar as tags da página steam procurando InitAppTagModal na front Page"
   ]
  }
 ],
 "metadata": {
  "kernelspec": {
   "display_name": "base",
   "language": "python",
   "name": "python3"
  },
  "language_info": {
   "codemirror_mode": {
    "name": "ipython",
    "version": 3
   },
   "file_extension": ".py",
   "mimetype": "text/x-python",
   "name": "python",
   "nbconvert_exporter": "python",
   "pygments_lexer": "ipython3",
   "version": "3.11.4"
  },
  "orig_nbformat": 4
 },
 "nbformat": 4,
 "nbformat_minor": 2
}
